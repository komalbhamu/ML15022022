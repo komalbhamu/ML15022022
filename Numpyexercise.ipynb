{
 "cells": [
  {
   "cell_type": "markdown",
   "id": "03cbf503-01c6-41d3-b06f-45e7bd52219c",
   "metadata": {},
   "source": [
    "### Import numpy as np"
   ]
  },
  {
   "cell_type": "code",
   "execution_count": 1,
   "id": "cede8e52-c53d-4aa3-8cc8-9e2bbe3143a4",
   "metadata": {},
   "outputs": [],
   "source": [
    "import numpy as np"
   ]
  },
  {
   "cell_type": "markdown",
   "id": "acfc82b7-bbe8-43c0-a5c8-100fa26dba6a",
   "metadata": {},
   "source": [
    "### Create an array of 10 zeros"
   ]
  },
  {
   "cell_type": "code",
   "execution_count": 2,
   "id": "dacadb8e-6f66-4553-b735-341de787b61c",
   "metadata": {},
   "outputs": [
    {
     "data": {
      "text/plain": [
       "array([0., 0., 0., 0., 0., 0., 0., 0., 0., 0.])"
      ]
     },
     "execution_count": 2,
     "metadata": {},
     "output_type": "execute_result"
    }
   ],
   "source": [
    "zero=np.zeros(10)\n",
    "zero"
   ]
  },
  {
   "cell_type": "markdown",
   "id": "b2f051ff-abda-41dc-9627-d533deec7cec",
   "metadata": {},
   "source": [
    "### Create an array of 10 ones"
   ]
  },
  {
   "cell_type": "code",
   "execution_count": 5,
   "id": "f338a9ca-176b-410e-9dc5-a18471f566fe",
   "metadata": {},
   "outputs": [
    {
     "data": {
      "text/plain": [
       "array([1., 1., 1., 1., 1., 1., 1., 1., 1., 1.])"
      ]
     },
     "execution_count": 5,
     "metadata": {},
     "output_type": "execute_result"
    }
   ],
   "source": [
    "one=np.ones(10)\n",
    "one"
   ]
  },
  {
   "cell_type": "markdown",
   "id": "8f56bc7d-1946-4f22-a5db-ea6d7a2a214b",
   "metadata": {},
   "source": [
    "### Create an array of 10 fives"
   ]
  },
  {
   "cell_type": "code",
   "execution_count": 8,
   "id": "b9f03a23-7517-4fd2-9b58-31198238a615",
   "metadata": {},
   "outputs": [
    {
     "data": {
      "text/plain": [
       "array([5., 5., 5., 5., 5., 5., 5., 5., 5., 5.])"
      ]
     },
     "execution_count": 8,
     "metadata": {},
     "output_type": "execute_result"
    }
   ],
   "source": [
    "five=one*5\n",
    "five"
   ]
  },
  {
   "cell_type": "markdown",
   "id": "d8edd5e4-d6e9-4b78-97c5-65897e7b8158",
   "metadata": {},
   "source": [
    "### Create an array of the integers from 10 to 50"
   ]
  },
  {
   "cell_type": "code",
   "execution_count": 9,
   "id": "a88b9ee1-c09a-4ea1-a177-099c4774e81e",
   "metadata": {},
   "outputs": [
    {
     "data": {
      "text/plain": [
       "array([10, 11, 12, 13, 14, 15, 16, 17, 18, 19, 20, 21, 22, 23, 24, 25, 26,\n",
       "       27, 28, 29, 30, 31, 32, 33, 34, 35, 36, 37, 38, 39, 40, 41, 42, 43,\n",
       "       44, 45, 46, 47, 48, 49])"
      ]
     },
     "execution_count": 9,
     "metadata": {},
     "output_type": "execute_result"
    }
   ],
   "source": [
    "array=np.array(range(10,50))\n",
    "array"
   ]
  },
  {
   "cell_type": "markdown",
   "id": "a862def5-6c4d-4f76-9df1-edbc621d77e6",
   "metadata": {},
   "source": [
    "### Create an array of all the even integers from 10 to 50"
   ]
  },
  {
   "cell_type": "code",
   "execution_count": 10,
   "id": "63ef571c-dc3f-415b-a9ea-ab18b2fe49fe",
   "metadata": {},
   "outputs": [
    {
     "data": {
      "text/plain": [
       "array([10, 12, 14, 16, 18, 20, 22, 24, 26, 28, 30, 32, 34, 36, 38, 40, 42,\n",
       "       44, 46, 48])"
      ]
     },
     "execution_count": 10,
     "metadata": {},
     "output_type": "execute_result"
    }
   ],
   "source": [
    "Evenarray=np.array(range(10,50,2))\n",
    "Evenarray"
   ]
  },
  {
   "cell_type": "markdown",
   "id": "b82d9fff-fe32-41ed-b4ec-a238b0b20391",
   "metadata": {},
   "source": [
    "### Create a 3x3 matrix with values ranging from 0 to 8"
   ]
  },
  {
   "cell_type": "code",
   "execution_count": 11,
   "id": "1daf74e0-d501-4d3b-9d0f-ae908505ec12",
   "metadata": {},
   "outputs": [
    {
     "data": {
      "text/plain": [
       "array([[0, 1, 2],\n",
       "       [3, 4, 5],\n",
       "       [6, 7, 8]])"
      ]
     },
     "execution_count": 11,
     "metadata": {},
     "output_type": "execute_result"
    }
   ],
   "source": [
    "a=np.array([[0,1,2],[3,4,5],[6,7,8]])\n",
    "a"
   ]
  },
  {
   "cell_type": "markdown",
   "id": "9e323367-8ae6-4fe8-a210-4fca5d8ec7b3",
   "metadata": {},
   "source": [
    "### Create a 3x3 identity matrix"
   ]
  },
  {
   "cell_type": "code",
   "execution_count": 15,
   "id": "5c4e8d3a-416e-4937-b33c-713bd3e23f31",
   "metadata": {},
   "outputs": [
    {
     "data": {
      "text/plain": [
       "array([[1., 0., 0.],\n",
       "       [0., 1., 0.],\n",
       "       [0., 0., 1.]])"
      ]
     },
     "execution_count": 15,
     "metadata": {},
     "output_type": "execute_result"
    }
   ],
   "source": [
    "a1 = np.eye(3)\n",
    "a1"
   ]
  },
  {
   "cell_type": "markdown",
   "id": "769290c9-2c0a-4230-9fdc-589372a39c87",
   "metadata": {},
   "source": [
    "### Use NumPy to generate a random number between 0 and 1"
   ]
  },
  {
   "cell_type": "code",
   "execution_count": 16,
   "id": "29c327e0-9582-4be4-a578-39e664a878dc",
   "metadata": {},
   "outputs": [
    {
     "data": {
      "text/plain": [
       "array([0.21043517])"
      ]
     },
     "execution_count": 16,
     "metadata": {},
     "output_type": "execute_result"
    }
   ],
   "source": [
    "ar =np.random.random(1)\n",
    "ar"
   ]
  },
  {
   "cell_type": "markdown",
   "id": "c8cdb2bf-349a-4686-85d2-bc6321d3b565",
   "metadata": {},
   "source": [
    "### Use NumPy to generate an array of 25 random numbers sampled from a standard normal distribution"
   ]
  },
  {
   "cell_type": "code",
   "execution_count": 17,
   "id": "f44fde3d-25ea-4dac-a6bb-4d5607e7ac3e",
   "metadata": {},
   "outputs": [
    {
     "data": {
      "text/plain": [
       "array([0.81378825, 0.18251299, 0.40054383, 0.17191722, 0.69478322,\n",
       "       0.68813385, 0.30194935, 0.30039849, 0.19893059, 0.29747285,\n",
       "       0.8217257 , 0.68843231, 0.04173405, 0.54269257, 0.69642218,\n",
       "       0.55693889, 0.78802555, 0.26335257, 0.02815595, 0.81363229,\n",
       "       0.41123602, 0.43932369, 0.01630507, 0.10302235, 0.92959188])"
      ]
     },
     "execution_count": 17,
     "metadata": {},
     "output_type": "execute_result"
    }
   ],
   "source": [
    "ar =np.random.random(25)\n",
    "ar"
   ]
  },
  {
   "cell_type": "markdown",
   "id": "2934bf8f-2d98-4fb1-9252-9fab05a2c351",
   "metadata": {},
   "source": [
    "### Create the following matrix:"
   ]
  },
  {
   "cell_type": "code",
   "execution_count": 18,
   "id": "070317d3-e2f1-4f37-9b19-3a357decda97",
   "metadata": {},
   "outputs": [
    {
     "data": {
      "text/plain": [
       "array([[0.        , 0.02040816, 0.04081633, 0.06122449, 0.08163265,\n",
       "        0.10204082, 0.12244898, 0.14285714, 0.16326531, 0.18367347,\n",
       "        0.20408163, 0.2244898 , 0.24489796, 0.26530612, 0.28571429,\n",
       "        0.30612245, 0.32653061, 0.34693878, 0.36734694, 0.3877551 ,\n",
       "        0.40816327, 0.42857143, 0.44897959, 0.46938776, 0.48979592,\n",
       "        0.51020408, 0.53061224, 0.55102041, 0.57142857, 0.59183673,\n",
       "        0.6122449 , 0.63265306, 0.65306122, 0.67346939, 0.69387755,\n",
       "        0.71428571, 0.73469388, 0.75510204, 0.7755102 , 0.79591837,\n",
       "        0.81632653, 0.83673469, 0.85714286, 0.87755102, 0.89795918,\n",
       "        0.91836735, 0.93877551, 0.95918367, 0.97959184, 1.        ]])"
      ]
     },
     "execution_count": 18,
     "metadata": {},
     "output_type": "execute_result"
    }
   ],
   "source": [
    "r= np.array([np.linspace(0,1)])\n",
    "r"
   ]
  },
  {
   "cell_type": "markdown",
   "id": "c480a6bc-8e98-4d66-8011-7fa51e6c3229",
   "metadata": {},
   "source": [
    "### Create an array of 20 linearly spaced points between 0 and 1:"
   ]
  },
  {
   "cell_type": "code",
   "execution_count": 19,
   "id": "267dc94d-d39f-4510-87ac-8a6794c28d72",
   "metadata": {},
   "outputs": [
    {
     "data": {
      "text/plain": [
       "array([0.        , 0.05263158, 0.10526316, 0.15789474, 0.21052632,\n",
       "       0.26315789, 0.31578947, 0.36842105, 0.42105263, 0.47368421,\n",
       "       0.52631579, 0.57894737, 0.63157895, 0.68421053, 0.73684211,\n",
       "       0.78947368, 0.84210526, 0.89473684, 0.94736842, 1.        ])"
      ]
     },
     "execution_count": 19,
     "metadata": {},
     "output_type": "execute_result"
    }
   ],
   "source": [
    "p = np.array(np.linspace(0,1,20))\n",
    "p"
   ]
  },
  {
   "cell_type": "markdown",
   "id": "c90c8c4c-116e-4d27-94d0-32cc70ec55a5",
   "metadata": {},
   "source": [
    "# Numpy Indexing and Selection\n",
    "### Now you will be given a few matrices, and be asked to replicate the resulting matrix outputs:"
   ]
  },
  {
   "cell_type": "code",
   "execution_count": 20,
   "id": "a2a9621a-e8bb-4732-9694-07cb50c46411",
   "metadata": {},
   "outputs": [
    {
     "data": {
      "text/plain": [
       "array([[ 1,  2,  3,  4,  5],\n",
       "       [ 6,  7,  8,  9, 10],\n",
       "       [11, 12, 13, 14, 15],\n",
       "       [16, 17, 18, 19, 20],\n",
       "       [21, 22, 23, 24, 25]])"
      ]
     },
     "execution_count": 20,
     "metadata": {},
     "output_type": "execute_result"
    }
   ],
   "source": [
    "arr = np.array(range(1,26))\n",
    "k =arr.reshape(5,5)\n",
    "k"
   ]
  },
  {
   "cell_type": "markdown",
   "id": "16956638-4d72-4527-93bb-70a4d60c6f76",
   "metadata": {},
   "source": [
    "### WRITE CODE HERE THAT REPRODUCES THE OUTPUT OF THE CELL BELOW\n",
    "### BE CAREFUL NOT TO RUN THE CELL BELOW, OTHERWISE YOU WON'T\n",
    "### BE ABLE TO SEE THE OUTPUT ANY MORE"
   ]
  },
  {
   "cell_type": "code",
   "execution_count": 21,
   "id": "34187492-a4c6-4139-a2f8-ee2b4e751e14",
   "metadata": {},
   "outputs": [
    {
     "data": {
      "text/plain": [
       "array([[12, 13, 14, 15],\n",
       "       [17, 18, 19, 20],\n",
       "       [22, 23, 24, 25]])"
      ]
     },
     "execution_count": 21,
     "metadata": {},
     "output_type": "execute_result"
    }
   ],
   "source": [
    "l=k[2::,1::]\n",
    "l"
   ]
  },
  {
   "cell_type": "markdown",
   "id": "6171ed06-f3e1-43ab-ae5d-083b7d1d9493",
   "metadata": {},
   "source": [
    "### WRITE CODE HERE THAT REPRODUCES THE OUTPUT OF THE CELL BELOW\n",
    "### BE CAREFUL NOT TO RUN THE CELL BELOW, OTHERWISE YOU WON'T\n",
    "### BE ABLE TO SEE THE OUTPUT ANY MORE"
   ]
  },
  {
   "cell_type": "code",
   "execution_count": 22,
   "id": "0c96f4d9-de6f-4163-a3c7-a3bcbea7fd3f",
   "metadata": {},
   "outputs": [
    {
     "data": {
      "text/plain": [
       "20"
      ]
     },
     "execution_count": 22,
     "metadata": {},
     "output_type": "execute_result"
    }
   ],
   "source": [
    "l[1,3]"
   ]
  },
  {
   "cell_type": "markdown",
   "id": "ce2df418-cb9d-492c-9cef-4918b6e680f7",
   "metadata": {},
   "source": [
    "### WRITE CODE HERE THAT REPRODUCES THE OUTPUT OF THE CELL BELOW\n",
    "### BE CAREFUL NOT TO RUN THE CELL BELOW, OTHERWISE YOU WON'T\n",
    "### BE ABLE TO SEE THE OUTPUT ANY MORE"
   ]
  },
  {
   "cell_type": "code",
   "execution_count": 23,
   "id": "270c2d33-5561-4c0b-8d76-5777899d71d1",
   "metadata": {},
   "outputs": [
    {
     "data": {
      "text/plain": [
       "array([[ 2],\n",
       "       [ 7],\n",
       "       [12]])"
      ]
     },
     "execution_count": 23,
     "metadata": {},
     "output_type": "execute_result"
    }
   ],
   "source": [
    "m=k[0:3:,1]\n",
    "m=m.reshape(3,1)\n",
    "m"
   ]
  },
  {
   "cell_type": "markdown",
   "id": "e6fee77b-29a8-454f-b90b-838fc122d76c",
   "metadata": {},
   "source": [
    "### WRITE CODE HERE THAT REPRODUCES THE OUTPUT OF THE CELL BELOW\n",
    "### BE CAREFUL NOT TO RUN THE CELL BELOW, OTHERWISE YOU WON'T\n",
    "### BE ABLE TO SEE THE OUTPUT ANY MORE"
   ]
  },
  {
   "cell_type": "code",
   "execution_count": 24,
   "id": "f19b9962-23df-4822-b61e-988b02d72034",
   "metadata": {},
   "outputs": [
    {
     "data": {
      "text/plain": [
       "array([21, 22, 23, 24, 25])"
      ]
     },
     "execution_count": 24,
     "metadata": {},
     "output_type": "execute_result"
    }
   ],
   "source": [
    "p=k[4,0:5]\n",
    "p"
   ]
  },
  {
   "cell_type": "markdown",
   "id": "37b1a499-2f23-471c-b35e-03be5766a96e",
   "metadata": {},
   "source": [
    "### WRITE CODE HERE THAT REPRODUCES THE OUTPUT OF THE CELL BELOW\n",
    "### BE CAREFUL NOT TO RUN THE CELL BELOW, OTHERWISE YOU WON'T\n",
    "### BE ABLE TO SEE THE OUTPUT ANY MORE"
   ]
  },
  {
   "cell_type": "code",
   "execution_count": 25,
   "id": "bf80cbc8-11a2-4ca6-934e-c437fbdadcc3",
   "metadata": {},
   "outputs": [
    {
     "data": {
      "text/plain": [
       "array([[16, 17, 18, 19, 20],\n",
       "       [21, 22, 23, 24, 25]])"
      ]
     },
     "execution_count": 25,
     "metadata": {},
     "output_type": "execute_result"
    }
   ],
   "source": [
    "q=k[3:5,0:5]\n",
    "q"
   ]
  },
  {
   "cell_type": "markdown",
   "id": "65770891-abea-49b1-b01b-731e52813e46",
   "metadata": {},
   "source": [
    "# Now do the following\n",
    "### Get the sum of all the values in mat"
   ]
  },
  {
   "cell_type": "code",
   "execution_count": 26,
   "id": "6c14b648-f920-4b02-866e-6bf3b1d00868",
   "metadata": {},
   "outputs": [
    {
     "data": {
      "text/plain": [
       "325"
      ]
     },
     "execution_count": 26,
     "metadata": {},
     "output_type": "execute_result"
    }
   ],
   "source": [
    "k.sum()"
   ]
  },
  {
   "cell_type": "markdown",
   "id": "adcd5271-e110-42c1-be1d-e92480667810",
   "metadata": {},
   "source": [
    "### Get the standard deviation of the values in mat"
   ]
  },
  {
   "cell_type": "code",
   "execution_count": 27,
   "id": "367852d4-b7fc-412b-9127-4cbef1179b5b",
   "metadata": {},
   "outputs": [
    {
     "data": {
      "text/plain": [
       "7.211102550927978"
      ]
     },
     "execution_count": 27,
     "metadata": {},
     "output_type": "execute_result"
    }
   ],
   "source": [
    "k.std()"
   ]
  },
  {
   "cell_type": "markdown",
   "id": "880da603-d0ef-43a0-b5fd-d8e9c0a9caf0",
   "metadata": {},
   "source": [
    "### Get the sum of all the columns in mat"
   ]
  },
  {
   "cell_type": "code",
   "execution_count": 28,
   "id": "66d9a23c-ffd1-453d-b4be-a1869c174ba3",
   "metadata": {},
   "outputs": [
    {
     "data": {
      "text/plain": [
       "array([55, 60, 65, 70, 75])"
      ]
     },
     "execution_count": 28,
     "metadata": {},
     "output_type": "execute_result"
    }
   ],
   "source": [
    "k.sum(axis =0)"
   ]
  },
  {
   "cell_type": "markdown",
   "id": "532b7c55-031e-45dc-80b5-1336322355fa",
   "metadata": {},
   "source": [
    "# WELL DONE CHAMP!"
   ]
  },
  {
   "cell_type": "code",
   "execution_count": null,
   "id": "ab4ac6b5-7908-4ac2-964b-43dab2668319",
   "metadata": {},
   "outputs": [],
   "source": []
  }
 ],
 "metadata": {
  "kernelspec": {
   "display_name": "Python 3 (ipykernel)",
   "language": "python",
   "name": "python3"
  },
  "language_info": {
   "codemirror_mode": {
    "name": "ipython",
    "version": 3
   },
   "file_extension": ".py",
   "mimetype": "text/x-python",
   "name": "python",
   "nbconvert_exporter": "python",
   "pygments_lexer": "ipython3",
   "version": "3.9.7"
  }
 },
 "nbformat": 4,
 "nbformat_minor": 5
}
